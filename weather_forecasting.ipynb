{
  "nbformat": 4,
  "nbformat_minor": 0,
  "metadata": {
    "colab": {
      "name": "deep_learning_projeto_01.ipynb",
      "provenance": [],
      "collapsed_sections": [],
      "toc_visible": true
    },
    "kernelspec": {
      "display_name": "Python 3",
      "name": "python3"
    }
  },
  "cells": [
    {
      "cell_type": "markdown",
      "metadata": {
        "id": "4ZGrXe0jmDBB"
      },
      "source": [
        "# Depêndencias iniciais\n",
        "Iremos agora importar as principais bibliotecas:"
      ]
    },
    {
      "cell_type": "code",
      "metadata": {
        "id": "f-CfjT-kltv5"
      },
      "source": [
        "import os\n",
        "import numpy as np\n",
        "import pandas as pd\n",
        "import tensorflow as tf\n",
        "from tensorflow.keras.models import Sequential\n",
        "from tensorflow.keras.layers import LSTM, Dense, Dropout, Bidirectional\n",
        "\n",
        "# Visualization imports\n",
        "import seaborn as sns\n",
        "sns.set()\n",
        "import matplotlib.pyplot as plt"
      ],
      "execution_count": null,
      "outputs": []
    },
    {
      "cell_type": "markdown",
      "metadata": {
        "id": "lDbR65d8mkI-"
      },
      "source": [
        "# O dataset\n",
        "Nessa primeira parte, iremos carregar o _dataset_ na estrutura de dados que utilizaremos, que será o [DataFrame](https://pandas.pydata.org/pandas-docs/stable/reference/api/pandas.DataFrame.html)."
      ]
    },
    {
      "cell_type": "code",
      "metadata": {
        "id": "SIt2sny_FSmk"
      },
      "source": [
        "# Lendo arquivo CSV\n",
        "filename = '/content/drive/My Drive/Ensino/UFRN 2016.1/2020.1/Aprendizado Profundo/projeto_01/data/A304.csv'\n",
        "df = pd.read_csv(filename)"
      ],
      "execution_count": null,
      "outputs": []
    },
    {
      "cell_type": "code",
      "metadata": {
        "id": "sZsoV7Kgm9U9",
        "outputId": "ca20cd1b-6e29-4b38-b22d-d188f755d52f",
        "colab": {
          "base_uri": "https://localhost:8080/"
        }
      },
      "source": [
        "# Conhecendo a quantidade de linhas e colunas do dataset, respectivamente\n",
        "print(\"dataset:= \", df.shape)"
      ],
      "execution_count": null,
      "outputs": [
        {
          "output_type": "stream",
          "text": [
            "dataset:=  (154296, 20)\n"
          ],
          "name": "stdout"
        }
      ]
    },
    {
      "cell_type": "code",
      "metadata": {
        "id": "s74oMYPhm9pX",
        "outputId": "c571ce01-4273-41ec-c469-a94afd55afed",
        "colab": {
          "base_uri": "https://localhost:8080/"
        }
      },
      "source": [
        "df.columns"
      ],
      "execution_count": null,
      "outputs": [
        {
          "output_type": "execute_result",
          "data": {
            "text/plain": [
              "Index(['date', 'hour', 'precipitation_total',\n",
              "       'atmospheric_pressure_station_level', 'atmospheric_pressure_max_before',\n",
              "       'atmospheric_pressure_min_before', 'global_radiation',\n",
              "       'temperature_air_dry_bulb', 'temperature_dew_point',\n",
              "       'temperature_max_before', 'temperature_min_before',\n",
              "       'temperature_dew_point_max_before', 'temperature_dew_point_min_before',\n",
              "       'humidity_relative_max_before', 'humidity_relative_min_before',\n",
              "       'humidity_relative_air', 'wind_direction', 'wind_blast', 'wind_speed',\n",
              "       'code_wmo'],\n",
              "      dtype='object')"
            ]
          },
          "metadata": {
            "tags": []
          },
          "execution_count": 5
        }
      ]
    },
    {
      "cell_type": "code",
      "metadata": {
        "id": "ns0WVjTPtm4f",
        "outputId": "a8deb2ec-7a3c-435e-d4f4-65a958f351b0",
        "colab": {
          "base_uri": "https://localhost:8080/"
        }
      },
      "source": [
        "print(df['date'].min(), df['date'].max())"
      ],
      "execution_count": null,
      "outputs": [
        {
          "output_type": "stream",
          "text": [
            "2003-02-24 2020-09-30\n"
          ],
          "name": "stdout"
        }
      ]
    },
    {
      "cell_type": "markdown",
      "metadata": {
        "id": "05IUfpf2nJ4O"
      },
      "source": [
        "O _dataset_ possui as seguintes colunas (total de 20 colunas):\n",
        "\n",
        "- **date**: data da coleta do dado;\n",
        "- **hour**: horário da coleta do dado;\n",
        "- **precipitation_total**: precipitação total, no horário (mm);\n",
        "- **atmospheric_pressure_station_level**: pressão atmosferica ao nível da estação, no horário (mB);\n",
        "- **atmospheric_pressure_max_before**: pressão atmosferica máxima na hora anterior (mB);\n",
        "- **atmospheric_pressure_min_before**: pressão atmosferica mínima na hora anterior (mB);\n",
        "- **global_radiation**: radiação global (KJ/m²);\n",
        "- **temperature_air_dry_bulb**: temperatura do ar do bulbo seco, no horário (ºC);\n",
        "- **temperature_dew_point**: temperatura do ponto de orvalho (ºC);\n",
        "- **temperature_max_before**: temperatura máxima na hora anterior (ºC);\n",
        "- **temperature_min_before**: temperatura mínima na hora anterior (ºC);\n",
        "- **temperature_dew_point_max_before**: temperatura máxima do ponto de orvalho (ºC);\n",
        "- **temperature_dew_point_min_before**: temperatura mínima do ponto de orvalho (ºC);\n",
        "- **humidity_relative_max_before**: umidade relativa máxima na hora anterior (%);\n",
        "- **humidity_relative_min_before**: umidade relativa mínima na hora anterior (%);\n",
        "- **humidity_relative_air**: umidade relativa do ar, no horário (%);\n",
        "- **wind_direction**: direção do vento (gr) (°(gr));\n",
        "- **wind_blast**: rajada máxima do vento (m/s);\n",
        "- **wind_speed**: velocidade do vento, no horário (m/s);\n",
        "- **code_wmo**: código WMO da estação.\n",
        "\n",
        "Dessas colunas, a nossa coluna alvo será **temperature_air_dry_bulb**."
      ]
    },
    {
      "cell_type": "code",
      "metadata": {
        "id": "tIe4sqmtGGgY"
      },
      "source": [
        "target_col = 'temperature_air_dry_bulb'"
      ],
      "execution_count": null,
      "outputs": []
    },
    {
      "cell_type": "markdown",
      "metadata": {
        "id": "cSZAOhW_mobG"
      },
      "source": [
        "## Explorando o dataset\n",
        "Aqui iremos utilizar alguns métodos do pandas para conhecermos melhor o nosso _DataFrame_. Os métodos serão:\n",
        "- **[head](https://pandas.pydata.org/pandas-docs/stable/reference/api/pandas.DataFrame.head.html)**: mostra as primeiras _n_ linhas do nosso _dataset_. Por padrão serão as 5 primeiras linhas.\n",
        "- **[info](https://pandas.pydata.org/pandas-docs/stable/reference/api/pandas.DataFrame.info.html)**: imprime informações sobre o nosso _DataFrame_, incluindo o tipo de índice, os tipos de coluna, valores não nulos e uso de memória.\n",
        "\n",
        "- **[describe](https://pandas.pydata.org/pandas-docs/stable/reference/api/pandas.DataFrame.describe.html)**: mostra estatísticas descritivas sobre as colunas do nosso _DataFrame_, como: a tendência central, a dispersão e a forma da distribuição de um conjunto de dados."
      ]
    },
    {
      "cell_type": "code",
      "metadata": {
        "id": "GGC8uVwVldab",
        "outputId": "15d17174-ef0f-4a76-ca93-df8ecac5cd32",
        "colab": {
          "base_uri": "https://localhost:8080/",
          "height": 301
        }
      },
      "source": [
        "df.head()"
      ],
      "execution_count": null,
      "outputs": [
        {
          "output_type": "execute_result",
          "data": {
            "text/html": [
              "<div>\n",
              "<style scoped>\n",
              "    .dataframe tbody tr th:only-of-type {\n",
              "        vertical-align: middle;\n",
              "    }\n",
              "\n",
              "    .dataframe tbody tr th {\n",
              "        vertical-align: top;\n",
              "    }\n",
              "\n",
              "    .dataframe thead th {\n",
              "        text-align: right;\n",
              "    }\n",
              "</style>\n",
              "<table border=\"1\" class=\"dataframe\">\n",
              "  <thead>\n",
              "    <tr style=\"text-align: right;\">\n",
              "      <th></th>\n",
              "      <th>date</th>\n",
              "      <th>hour</th>\n",
              "      <th>precipitation_total</th>\n",
              "      <th>atmospheric_pressure_station_level</th>\n",
              "      <th>atmospheric_pressure_max_before</th>\n",
              "      <th>atmospheric_pressure_min_before</th>\n",
              "      <th>global_radiation</th>\n",
              "      <th>temperature_air_dry_bulb</th>\n",
              "      <th>temperature_dew_point</th>\n",
              "      <th>temperature_max_before</th>\n",
              "      <th>temperature_min_before</th>\n",
              "      <th>temperature_dew_point_max_before</th>\n",
              "      <th>temperature_dew_point_min_before</th>\n",
              "      <th>humidity_relative_max_before</th>\n",
              "      <th>humidity_relative_min_before</th>\n",
              "      <th>humidity_relative_air</th>\n",
              "      <th>wind_direction</th>\n",
              "      <th>wind_blast</th>\n",
              "      <th>wind_speed</th>\n",
              "      <th>code_wmo</th>\n",
              "    </tr>\n",
              "  </thead>\n",
              "  <tbody>\n",
              "    <tr>\n",
              "      <th>0</th>\n",
              "      <td>2010-01-01</td>\n",
              "      <td>00:00</td>\n",
              "      <td>0.0</td>\n",
              "      <td>1006.6</td>\n",
              "      <td>1006.8</td>\n",
              "      <td>1006.4</td>\n",
              "      <td>NaN</td>\n",
              "      <td>27.1</td>\n",
              "      <td>22.5</td>\n",
              "      <td>27.3</td>\n",
              "      <td>27.1</td>\n",
              "      <td>23.0</td>\n",
              "      <td>22.4</td>\n",
              "      <td>78.0</td>\n",
              "      <td>76.0</td>\n",
              "      <td>76.0</td>\n",
              "      <td>66.0</td>\n",
              "      <td>6.3</td>\n",
              "      <td>3.2</td>\n",
              "      <td>A304</td>\n",
              "    </tr>\n",
              "    <tr>\n",
              "      <th>1</th>\n",
              "      <td>2010-01-01</td>\n",
              "      <td>01:00</td>\n",
              "      <td>0.0</td>\n",
              "      <td>1006.7</td>\n",
              "      <td>1006.8</td>\n",
              "      <td>1006.5</td>\n",
              "      <td>NaN</td>\n",
              "      <td>26.9</td>\n",
              "      <td>22.6</td>\n",
              "      <td>27.1</td>\n",
              "      <td>26.8</td>\n",
              "      <td>22.7</td>\n",
              "      <td>22.3</td>\n",
              "      <td>77.0</td>\n",
              "      <td>76.0</td>\n",
              "      <td>77.0</td>\n",
              "      <td>75.0</td>\n",
              "      <td>6.3</td>\n",
              "      <td>3.0</td>\n",
              "      <td>A304</td>\n",
              "    </tr>\n",
              "    <tr>\n",
              "      <th>2</th>\n",
              "      <td>2010-01-01</td>\n",
              "      <td>02:00</td>\n",
              "      <td>0.0</td>\n",
              "      <td>1006.9</td>\n",
              "      <td>1006.9</td>\n",
              "      <td>1006.7</td>\n",
              "      <td>NaN</td>\n",
              "      <td>26.9</td>\n",
              "      <td>22.6</td>\n",
              "      <td>27.0</td>\n",
              "      <td>26.8</td>\n",
              "      <td>22.6</td>\n",
              "      <td>22.3</td>\n",
              "      <td>77.0</td>\n",
              "      <td>76.0</td>\n",
              "      <td>77.0</td>\n",
              "      <td>62.0</td>\n",
              "      <td>5.4</td>\n",
              "      <td>3.1</td>\n",
              "      <td>A304</td>\n",
              "    </tr>\n",
              "    <tr>\n",
              "      <th>3</th>\n",
              "      <td>2010-01-01</td>\n",
              "      <td>03:00</td>\n",
              "      <td>0.0</td>\n",
              "      <td>1006.2</td>\n",
              "      <td>1006.9</td>\n",
              "      <td>1006.2</td>\n",
              "      <td>NaN</td>\n",
              "      <td>26.6</td>\n",
              "      <td>22.2</td>\n",
              "      <td>26.9</td>\n",
              "      <td>26.5</td>\n",
              "      <td>22.6</td>\n",
              "      <td>22.0</td>\n",
              "      <td>78.0</td>\n",
              "      <td>76.0</td>\n",
              "      <td>77.0</td>\n",
              "      <td>72.0</td>\n",
              "      <td>5.5</td>\n",
              "      <td>2.9</td>\n",
              "      <td>A304</td>\n",
              "    </tr>\n",
              "    <tr>\n",
              "      <th>4</th>\n",
              "      <td>2010-01-01</td>\n",
              "      <td>04:00</td>\n",
              "      <td>0.0</td>\n",
              "      <td>1005.6</td>\n",
              "      <td>1006.3</td>\n",
              "      <td>1005.6</td>\n",
              "      <td>NaN</td>\n",
              "      <td>26.5</td>\n",
              "      <td>22.1</td>\n",
              "      <td>26.6</td>\n",
              "      <td>26.5</td>\n",
              "      <td>22.2</td>\n",
              "      <td>22.0</td>\n",
              "      <td>77.0</td>\n",
              "      <td>76.0</td>\n",
              "      <td>77.0</td>\n",
              "      <td>56.0</td>\n",
              "      <td>5.0</td>\n",
              "      <td>2.0</td>\n",
              "      <td>A304</td>\n",
              "    </tr>\n",
              "  </tbody>\n",
              "</table>\n",
              "</div>"
            ],
            "text/plain": [
              "         date   hour  precipitation_total  ...  wind_blast  wind_speed  code_wmo\n",
              "0  2010-01-01  00:00                  0.0  ...         6.3         3.2      A304\n",
              "1  2010-01-01  01:00                  0.0  ...         6.3         3.0      A304\n",
              "2  2010-01-01  02:00                  0.0  ...         5.4         3.1      A304\n",
              "3  2010-01-01  03:00                  0.0  ...         5.5         2.9      A304\n",
              "4  2010-01-01  04:00                  0.0  ...         5.0         2.0      A304\n",
              "\n",
              "[5 rows x 20 columns]"
            ]
          },
          "metadata": {
            "tags": []
          },
          "execution_count": 8
        }
      ]
    },
    {
      "cell_type": "code",
      "metadata": {
        "id": "H05qqekkpmrA",
        "outputId": "afc1fc9f-a3f9-4d70-c989-3a17f20fcbf4",
        "colab": {
          "base_uri": "https://localhost:8080/"
        }
      },
      "source": [
        "df.info()"
      ],
      "execution_count": null,
      "outputs": [
        {
          "output_type": "stream",
          "text": [
            "<class 'pandas.core.frame.DataFrame'>\n",
            "RangeIndex: 154296 entries, 0 to 154295\n",
            "Data columns (total 20 columns):\n",
            " #   Column                              Non-Null Count   Dtype  \n",
            "---  ------                              --------------   -----  \n",
            " 0   date                                154296 non-null  object \n",
            " 1   hour                                154296 non-null  object \n",
            " 2   precipitation_total                 136128 non-null  float64\n",
            " 3   atmospheric_pressure_station_level  138895 non-null  float64\n",
            " 4   atmospheric_pressure_max_before     138838 non-null  float64\n",
            " 5   atmospheric_pressure_min_before     138838 non-null  float64\n",
            " 6   global_radiation                    71702 non-null   float64\n",
            " 7   temperature_air_dry_bulb            138895 non-null  float64\n",
            " 8   temperature_dew_point               138895 non-null  float64\n",
            " 9   temperature_max_before              138851 non-null  float64\n",
            " 10  temperature_min_before              138851 non-null  float64\n",
            " 11  temperature_dew_point_max_before    138851 non-null  float64\n",
            " 12  temperature_dew_point_min_before    138850 non-null  float64\n",
            " 13  humidity_relative_max_before        138851 non-null  float64\n",
            " 14  humidity_relative_min_before        138850 non-null  float64\n",
            " 15  humidity_relative_air               138895 non-null  float64\n",
            " 16  wind_direction                      120989 non-null  float64\n",
            " 17  wind_blast                          120909 non-null  float64\n",
            " 18  wind_speed                          120989 non-null  float64\n",
            " 19  code_wmo                            154296 non-null  object \n",
            "dtypes: float64(17), object(3)\n",
            "memory usage: 23.5+ MB\n"
          ],
          "name": "stdout"
        }
      ]
    },
    {
      "cell_type": "code",
      "metadata": {
        "id": "f4eKiVVCpmkH",
        "outputId": "8219606c-a658-423a-b21c-80a5e8c0a27e",
        "colab": {
          "base_uri": "https://localhost:8080/",
          "height": 307
        }
      },
      "source": [
        "df.describe()"
      ],
      "execution_count": null,
      "outputs": [
        {
          "output_type": "execute_result",
          "data": {
            "text/html": [
              "<div>\n",
              "<style scoped>\n",
              "    .dataframe tbody tr th:only-of-type {\n",
              "        vertical-align: middle;\n",
              "    }\n",
              "\n",
              "    .dataframe tbody tr th {\n",
              "        vertical-align: top;\n",
              "    }\n",
              "\n",
              "    .dataframe thead th {\n",
              "        text-align: right;\n",
              "    }\n",
              "</style>\n",
              "<table border=\"1\" class=\"dataframe\">\n",
              "  <thead>\n",
              "    <tr style=\"text-align: right;\">\n",
              "      <th></th>\n",
              "      <th>precipitation_total</th>\n",
              "      <th>atmospheric_pressure_station_level</th>\n",
              "      <th>atmospheric_pressure_max_before</th>\n",
              "      <th>atmospheric_pressure_min_before</th>\n",
              "      <th>global_radiation</th>\n",
              "      <th>temperature_air_dry_bulb</th>\n",
              "      <th>temperature_dew_point</th>\n",
              "      <th>temperature_max_before</th>\n",
              "      <th>temperature_min_before</th>\n",
              "      <th>temperature_dew_point_max_before</th>\n",
              "      <th>temperature_dew_point_min_before</th>\n",
              "      <th>humidity_relative_max_before</th>\n",
              "      <th>humidity_relative_min_before</th>\n",
              "      <th>humidity_relative_air</th>\n",
              "      <th>wind_direction</th>\n",
              "      <th>wind_blast</th>\n",
              "      <th>wind_speed</th>\n",
              "    </tr>\n",
              "  </thead>\n",
              "  <tbody>\n",
              "    <tr>\n",
              "      <th>count</th>\n",
              "      <td>136128.000000</td>\n",
              "      <td>138895.000000</td>\n",
              "      <td>138838.000000</td>\n",
              "      <td>138838.000000</td>\n",
              "      <td>71702.000000</td>\n",
              "      <td>138895.000000</td>\n",
              "      <td>138895.000000</td>\n",
              "      <td>138851.000000</td>\n",
              "      <td>138851.000000</td>\n",
              "      <td>138851.000000</td>\n",
              "      <td>138850.000000</td>\n",
              "      <td>138851.000000</td>\n",
              "      <td>138850.000000</td>\n",
              "      <td>138895.000000</td>\n",
              "      <td>120989.000000</td>\n",
              "      <td>120909.000000</td>\n",
              "      <td>120989.000000</td>\n",
              "    </tr>\n",
              "    <tr>\n",
              "      <th>mean</th>\n",
              "      <td>0.191640</td>\n",
              "      <td>1007.357029</td>\n",
              "      <td>1007.599973</td>\n",
              "      <td>1007.118857</td>\n",
              "      <td>8399.279964</td>\n",
              "      <td>26.442520</td>\n",
              "      <td>21.845899</td>\n",
              "      <td>26.897729</td>\n",
              "      <td>26.040689</td>\n",
              "      <td>22.261252</td>\n",
              "      <td>21.451131</td>\n",
              "      <td>78.559319</td>\n",
              "      <td>74.243349</td>\n",
              "      <td>76.465963</td>\n",
              "      <td>149.664556</td>\n",
              "      <td>8.335591</td>\n",
              "      <td>4.358162</td>\n",
              "    </tr>\n",
              "    <tr>\n",
              "      <th>std</th>\n",
              "      <td>1.302046</td>\n",
              "      <td>2.080056</td>\n",
              "      <td>2.069671</td>\n",
              "      <td>2.075203</td>\n",
              "      <td>12735.502162</td>\n",
              "      <td>2.028838</td>\n",
              "      <td>1.292824</td>\n",
              "      <td>2.171993</td>\n",
              "      <td>1.925854</td>\n",
              "      <td>1.314570</td>\n",
              "      <td>1.291321</td>\n",
              "      <td>8.351258</td>\n",
              "      <td>9.498356</td>\n",
              "      <td>8.941881</td>\n",
              "      <td>39.921857</td>\n",
              "      <td>2.494723</td>\n",
              "      <td>1.577683</td>\n",
              "    </tr>\n",
              "    <tr>\n",
              "      <th>min</th>\n",
              "      <td>0.000000</td>\n",
              "      <td>999.500000</td>\n",
              "      <td>999.600000</td>\n",
              "      <td>999.400000</td>\n",
              "      <td>0.000000</td>\n",
              "      <td>20.100000</td>\n",
              "      <td>14.400000</td>\n",
              "      <td>20.300000</td>\n",
              "      <td>19.900000</td>\n",
              "      <td>16.100000</td>\n",
              "      <td>12.300000</td>\n",
              "      <td>45.000000</td>\n",
              "      <td>37.000000</td>\n",
              "      <td>39.000000</td>\n",
              "      <td>1.000000</td>\n",
              "      <td>0.000000</td>\n",
              "      <td>0.000000</td>\n",
              "    </tr>\n",
              "    <tr>\n",
              "      <th>25%</th>\n",
              "      <td>0.000000</td>\n",
              "      <td>1005.800000</td>\n",
              "      <td>1006.100000</td>\n",
              "      <td>1005.600000</td>\n",
              "      <td>638.100000</td>\n",
              "      <td>25.200000</td>\n",
              "      <td>21.000000</td>\n",
              "      <td>25.500000</td>\n",
              "      <td>24.800000</td>\n",
              "      <td>21.400000</td>\n",
              "      <td>20.600000</td>\n",
              "      <td>72.000000</td>\n",
              "      <td>67.000000</td>\n",
              "      <td>70.000000</td>\n",
              "      <td>125.000000</td>\n",
              "      <td>6.600000</td>\n",
              "      <td>3.200000</td>\n",
              "    </tr>\n",
              "    <tr>\n",
              "      <th>50%</th>\n",
              "      <td>0.000000</td>\n",
              "      <td>1007.300000</td>\n",
              "      <td>1007.500000</td>\n",
              "      <td>1007.000000</td>\n",
              "      <td>2419.950000</td>\n",
              "      <td>26.600000</td>\n",
              "      <td>21.900000</td>\n",
              "      <td>26.900000</td>\n",
              "      <td>26.200000</td>\n",
              "      <td>22.300000</td>\n",
              "      <td>21.500000</td>\n",
              "      <td>78.000000</td>\n",
              "      <td>74.000000</td>\n",
              "      <td>76.000000</td>\n",
              "      <td>139.000000</td>\n",
              "      <td>8.400000</td>\n",
              "      <td>4.300000</td>\n",
              "    </tr>\n",
              "    <tr>\n",
              "      <th>75%</th>\n",
              "      <td>0.000000</td>\n",
              "      <td>1008.800000</td>\n",
              "      <td>1009.100000</td>\n",
              "      <td>1008.600000</td>\n",
              "      <td>9047.750000</td>\n",
              "      <td>27.900000</td>\n",
              "      <td>22.700000</td>\n",
              "      <td>28.500000</td>\n",
              "      <td>27.500000</td>\n",
              "      <td>23.200000</td>\n",
              "      <td>22.400000</td>\n",
              "      <td>85.000000</td>\n",
              "      <td>80.000000</td>\n",
              "      <td>83.000000</td>\n",
              "      <td>173.000000</td>\n",
              "      <td>10.000000</td>\n",
              "      <td>5.400000</td>\n",
              "    </tr>\n",
              "    <tr>\n",
              "      <th>max</th>\n",
              "      <td>53.400000</td>\n",
              "      <td>1014.400000</td>\n",
              "      <td>1014.700000</td>\n",
              "      <td>1014.300000</td>\n",
              "      <td>47743.000000</td>\n",
              "      <td>32.800000</td>\n",
              "      <td>26.400000</td>\n",
              "      <td>34.500000</td>\n",
              "      <td>31.800000</td>\n",
              "      <td>28.100000</td>\n",
              "      <td>25.800000</td>\n",
              "      <td>99.000000</td>\n",
              "      <td>99.000000</td>\n",
              "      <td>99.000000</td>\n",
              "      <td>359.000000</td>\n",
              "      <td>23.600000</td>\n",
              "      <td>10.700000</td>\n",
              "    </tr>\n",
              "  </tbody>\n",
              "</table>\n",
              "</div>"
            ],
            "text/plain": [
              "       precipitation_total  ...     wind_speed\n",
              "count        136128.000000  ...  120989.000000\n",
              "mean              0.191640  ...       4.358162\n",
              "std               1.302046  ...       1.577683\n",
              "min               0.000000  ...       0.000000\n",
              "25%               0.000000  ...       3.200000\n",
              "50%               0.000000  ...       4.300000\n",
              "75%               0.000000  ...       5.400000\n",
              "max              53.400000  ...      10.700000\n",
              "\n",
              "[8 rows x 17 columns]"
            ]
          },
          "metadata": {
            "tags": []
          },
          "execution_count": 10
        }
      ]
    },
    {
      "cell_type": "markdown",
      "metadata": {
        "id": "lqxUaWPbqWfU"
      },
      "source": [
        "# Limpando, preparando e manipulando os dados\n",
        "Nessa etapa, iremos realizar o processo de limpeza, preparação e manipulação dos dados do nosso _DataFrame_. Primeiro iremos criar algumas colunas novas a partir das já existentes"
      ]
    },
    {
      "cell_type": "markdown",
      "metadata": {
        "id": "E6oUo9_8Nf7m"
      },
      "source": [
        "## Removendo valores lixo\n",
        "Em várias colunas há a presença de `-9999`, esse valor representa valores lixo, pois durante o processamento dos dados escolheu-se esse valor para representar dados lixos (strings, nan, etc).\n",
        "\n",
        "Sendo assim, podemos excluir as linhas que possuem esse e realizarmos outra EDA."
      ]
    },
    {
      "cell_type": "code",
      "metadata": {
        "id": "Sp8bwssDPXDN"
      },
      "source": [
        "numeric_cols = [\n",
        "            'precipitation_total',\n",
        "            'atmospheric_pressure_station_level',\n",
        "            'atmospheric_pressure_max_before',\n",
        "            'atmospheric_pressure_min_before',\n",
        "            'global_radiation',\n",
        "            'temperature_air_dry_bulb',\n",
        "            'temperature_dew_point',\n",
        "            'temperature_max_before',\n",
        "            'temperature_min_before',\n",
        "            'temperature_dew_point_max_before',\n",
        "            'temperature_dew_point_min_before',\n",
        "            'humidity_relative_max_before',\n",
        "            'humidity_relative_min_before',\n",
        "            'humidity_relative_air',\n",
        "            'wind_direction',\n",
        "            'wind_blast',\n",
        "            'wind_speed',\n",
        "]"
      ],
      "execution_count": null,
      "outputs": []
    },
    {
      "cell_type": "code",
      "metadata": {
        "id": "gE98LQSgN4mn",
        "outputId": "de39bc80-6ef8-4403-a5e8-e52a9d7773ec",
        "colab": {
          "base_uri": "https://localhost:8080/"
        }
      },
      "source": [
        "# Visualizar a quantidade de linhas antes\n",
        "df_shape = df.shape\n",
        "df_shape"
      ],
      "execution_count": null,
      "outputs": [
        {
          "output_type": "execute_result",
          "data": {
            "text/plain": [
              "(154296, 20)"
            ]
          },
          "metadata": {
            "tags": []
          },
          "execution_count": 12
        }
      ]
    },
    {
      "cell_type": "code",
      "metadata": {
        "id": "DStH5I8l4eIZ",
        "outputId": "cdb0ab41-bc69-41cc-ddd7-2b14a2a622c4",
        "colab": {
          "base_uri": "https://localhost:8080/"
        }
      },
      "source": [
        "for col in numeric_cols:\n",
        "  df_tmp_shape = df[df[col].isna()].shape\n",
        "  shape_diff = df_shape[0] - df_tmp_shape[0]\n",
        "  print(\"{} | (total) {} | (isna) {} | (notna) %{}\".format(col, df_shape[0], df_tmp_shape[0], (shape_diff * 100)/df_shape[0]))"
      ],
      "execution_count": null,
      "outputs": [
        {
          "output_type": "stream",
          "text": [
            "precipitation_total | (total) 154296 | (isna) 18168 | (notna) %88.22522942914917\n",
            "atmospheric_pressure_station_level | (total) 154296 | (isna) 15401 | (notna) %90.01853580131694\n",
            "atmospheric_pressure_max_before | (total) 154296 | (isna) 15458 | (notna) %89.98159381967128\n",
            "atmospheric_pressure_min_before | (total) 154296 | (isna) 15458 | (notna) %89.98159381967128\n",
            "global_radiation | (total) 154296 | (isna) 82594 | (notna) %46.47042049048582\n",
            "temperature_air_dry_bulb | (total) 154296 | (isna) 15401 | (notna) %90.01853580131694\n",
            "temperature_dew_point | (total) 154296 | (isna) 15401 | (notna) %90.01853580131694\n",
            "temperature_max_before | (total) 154296 | (isna) 15445 | (notna) %89.99001918390626\n",
            "temperature_min_before | (total) 154296 | (isna) 15445 | (notna) %89.99001918390626\n",
            "temperature_dew_point_max_before | (total) 154296 | (isna) 15445 | (notna) %89.99001918390626\n",
            "temperature_dew_point_min_before | (total) 154296 | (isna) 15446 | (notna) %89.9893710789651\n",
            "humidity_relative_max_before | (total) 154296 | (isna) 15445 | (notna) %89.99001918390626\n",
            "humidity_relative_min_before | (total) 154296 | (isna) 15446 | (notna) %89.9893710789651\n",
            "humidity_relative_air | (total) 154296 | (isna) 15401 | (notna) %90.01853580131694\n",
            "wind_direction | (total) 154296 | (isna) 33307 | (notna) %78.41356872504797\n",
            "wind_blast | (total) 154296 | (isna) 33387 | (notna) %78.3617203297558\n",
            "wind_speed | (total) 154296 | (isna) 33307 | (notna) %78.41356872504797\n"
          ],
          "name": "stdout"
        }
      ]
    },
    {
      "cell_type": "code",
      "metadata": {
        "id": "YxJAjgIhNhA4"
      },
      "source": [
        "# Removendo as colunas com valor igual a zero\n",
        "df_non_trash = df\n",
        "for col in numeric_cols:\n",
        "  df_non_trash = df_non_trash[df_non_trash[col].notna()]"
      ],
      "execution_count": null,
      "outputs": []
    },
    {
      "cell_type": "code",
      "metadata": {
        "id": "Ejypr_SMN8_p",
        "outputId": "4946f2a0-31b5-4ef0-d84f-a59b9f51efce",
        "colab": {
          "base_uri": "https://localhost:8080/"
        }
      },
      "source": [
        "# Visualizando a quantidade de linhas depois\n",
        "df_non_trash.shape"
      ],
      "execution_count": null,
      "outputs": [
        {
          "output_type": "execute_result",
          "data": {
            "text/plain": [
              "(60115, 20)"
            ]
          },
          "metadata": {
            "tags": []
          },
          "execution_count": 16
        }
      ]
    },
    {
      "cell_type": "markdown",
      "metadata": {
        "id": "l9Y-s10Oqq9N"
      },
      "source": [
        "## Criando novas \n",
        "Como as colunas **date** e **hour** são de objetos, elas não nos servem para a criação do modelo posteriormente. Sendo assim, vamos criar as seguintes colunas a partir delas:\n",
        "- **day**: o dia do registro;\n",
        "- **month**: o mês do registro;\n",
        "- **year**: o ano do registro;\n",
        "- **week**: a semana do ano do registro;\n",
        "- **day_week**: o dia da semana do registro;\n",
        "- **hour**: a hora do registro."
      ]
    },
    {
      "cell_type": "code",
      "metadata": {
        "id": "vVYbX4G7sBqN"
      },
      "source": [
        "# Juntando as colunas \"date\" e \"hour\" em uma única coluna do tipo datetime\n",
        "df_non_trash['date_hour'] = df_non_trash['date'] + ' ' + df_non_trash['hour']\n",
        "df_non_trash['date_hour'] = pd.to_datetime(df_non_trash['date_hour'], format='%Y-%m-%d %H:%M')"
      ],
      "execution_count": null,
      "outputs": []
    },
    {
      "cell_type": "code",
      "metadata": {
        "id": "LZKQTypRsCGW"
      },
      "source": [
        "# Criando as novas colunas\n",
        "df_non_trash['day'] = df_non_trash['date_hour'].dt.day\n",
        "df_non_trash['month'] = df_non_trash['date_hour'].dt.month\n",
        "df_non_trash['year'] = df_non_trash['date_hour'].dt.year\n",
        "df_non_trash['week'] = df_non_trash['date_hour'].dt.isocalendar().week\n",
        "df_non_trash['day_week'] = df_non_trash['date_hour'].dt.dayofweek\n",
        "df_non_trash['hour'] = df_non_trash['date_hour'].dt.hour"
      ],
      "execution_count": null,
      "outputs": []
    },
    {
      "cell_type": "markdown",
      "metadata": {
        "id": "gWGy_w9wqr_j"
      },
      "source": [
        "## Removendo colunas\n",
        "Agora iremos remover as colunas que não estamos usando até o momento, que são: \n",
        "- **date**: pois já criamos colunas novas a partir dela;\n",
        "- **date_hour**: pelo menos motivo da coluna **date**;\n",
        "- **code_who**: por ser o mesmo valor em todos os registros."
      ]
    },
    {
      "cell_type": "code",
      "metadata": {
        "id": "OOBqM4IZprK1",
        "outputId": "7d4993fc-bcd1-4240-9e43-1d5aef72c13e",
        "colab": {
          "base_uri": "https://localhost:8080/"
        }
      },
      "source": [
        "df_non_trash = df_non_trash.drop(columns=['date', 'date_hour', 'code_wmo'])\n",
        "df_non_trash.info()"
      ],
      "execution_count": null,
      "outputs": [
        {
          "output_type": "stream",
          "text": [
            "<class 'pandas.core.frame.DataFrame'>\n",
            "Int64Index: 60115 entries, 9 to 153357\n",
            "Data columns (total 23 columns):\n",
            " #   Column                              Non-Null Count  Dtype  \n",
            "---  ------                              --------------  -----  \n",
            " 0   hour                                60115 non-null  int64  \n",
            " 1   precipitation_total                 60115 non-null  float64\n",
            " 2   atmospheric_pressure_station_level  60115 non-null  float64\n",
            " 3   atmospheric_pressure_max_before     60115 non-null  float64\n",
            " 4   atmospheric_pressure_min_before     60115 non-null  float64\n",
            " 5   global_radiation                    60115 non-null  float64\n",
            " 6   temperature_air_dry_bulb            60115 non-null  float64\n",
            " 7   temperature_dew_point               60115 non-null  float64\n",
            " 8   temperature_max_before              60115 non-null  float64\n",
            " 9   temperature_min_before              60115 non-null  float64\n",
            " 10  temperature_dew_point_max_before    60115 non-null  float64\n",
            " 11  temperature_dew_point_min_before    60115 non-null  float64\n",
            " 12  humidity_relative_max_before        60115 non-null  float64\n",
            " 13  humidity_relative_min_before        60115 non-null  float64\n",
            " 14  humidity_relative_air               60115 non-null  float64\n",
            " 15  wind_direction                      60115 non-null  float64\n",
            " 16  wind_blast                          60115 non-null  float64\n",
            " 17  wind_speed                          60115 non-null  float64\n",
            " 18  day                                 60115 non-null  int64  \n",
            " 19  month                               60115 non-null  int64  \n",
            " 20  year                                60115 non-null  int64  \n",
            " 21  week                                60115 non-null  UInt32 \n",
            " 22  day_week                            60115 non-null  int64  \n",
            "dtypes: UInt32(1), float64(17), int64(5)\n",
            "memory usage: 10.8 MB\n"
          ],
          "name": "stdout"
        }
      ]
    },
    {
      "cell_type": "code",
      "metadata": {
        "id": "CN_8RrMv8jzw",
        "outputId": "07495d15-221d-4eab-91bf-a7bce8fc7235",
        "colab": {
          "base_uri": "https://localhost:8080/"
        }
      },
      "source": [
        "df_selected = df_non_trash[df_non_trash['year'] > 2017]\n",
        "#df_non_trash[df_non_trash['year'] > 2019].shape\n",
        "df_selected.shape"
      ],
      "execution_count": null,
      "outputs": [
        {
          "output_type": "execute_result",
          "data": {
            "text/plain": [
              "(12018, 23)"
            ]
          },
          "metadata": {
            "tags": []
          },
          "execution_count": 20
        }
      ]
    },
    {
      "cell_type": "markdown",
      "metadata": {
        "id": "eV3fbdlSyNZa"
      },
      "source": [
        "## Correlação\n",
        "Para a escolha das colunas que iremos utilizar para o treinamento, vamos analisar a correlação entre todas as colunas com a coluna que estamos \"atacando\"."
      ]
    },
    {
      "cell_type": "code",
      "metadata": {
        "id": "M9yZhO0RyNBp",
        "outputId": "510bc6c6-732a-4128-a42e-f9d5bd16f60e",
        "colab": {
          "base_uri": "https://localhost:8080/"
        }
      },
      "source": [
        "# Usamos a correlação de Pearson e ordenamos os valores\n",
        "columns_corr = df_selected.corr(method='pearson')['temperature_air_dry_bulb'].sort_values()\n",
        "print(columns_corr)"
      ],
      "execution_count": null,
      "outputs": [
        {
          "output_type": "stream",
          "text": [
            "humidity_relative_air                -0.759900\n",
            "humidity_relative_min_before         -0.753720\n",
            "humidity_relative_max_before         -0.709979\n",
            "wind_direction                       -0.547639\n",
            "atmospheric_pressure_station_level   -0.399343\n",
            "atmospheric_pressure_min_before      -0.342661\n",
            "atmospheric_pressure_max_before      -0.338458\n",
            "precipitation_total                  -0.235954\n",
            "week                                 -0.140295\n",
            "month                                -0.132638\n",
            "day                                  -0.019989\n",
            "day_week                             -0.017659\n",
            "year                                 -0.015344\n",
            "wind_blast                            0.215575\n",
            "temperature_dew_point_min_before      0.235247\n",
            "hour                                  0.316795\n",
            "temperature_dew_point                 0.319022\n",
            "wind_speed                            0.324045\n",
            "temperature_dew_point_max_before      0.435209\n",
            "global_radiation                      0.698207\n",
            "temperature_min_before                0.950094\n",
            "temperature_max_before                0.971995\n",
            "temperature_air_dry_bulb              1.000000\n",
            "Name: temperature_air_dry_bulb, dtype: float64\n"
          ],
          "name": "stdout"
        }
      ]
    },
    {
      "cell_type": "code",
      "metadata": {
        "id": "cx6ubqF850m2",
        "outputId": "28c5b843-c04d-4f87-81ab-56727c0e667d",
        "colab": {
          "base_uri": "https://localhost:8080/",
          "height": 698
        }
      },
      "source": [
        "# Plotamos um gráfico para ficar melhor de visualizar\n",
        "f, ax = plt.subplots(figsize=(10, 8))\n",
        "sns.heatmap(df_selected.corr(), mask=np.zeros_like(df_selected.corr(), dtype=np.bool),\n",
        "            cmap=sns.diverging_palette(220, 10, as_cmap=True),\n",
        "            square=True, ax=ax)"
      ],
      "execution_count": null,
      "outputs": [
        {
          "output_type": "execute_result",
          "data": {
            "text/plain": [
              "<matplotlib.axes._subplots.AxesSubplot at 0x7fec92ac75f8>"
            ]
          },
          "metadata": {
            "tags": []
          },
          "execution_count": 22
        },
        {
          "output_type": "display_data",
          "data": {
            "image/png": "[encoded data removed]",
            "text/plain": [
              "<Figure size 720x576 with 2 Axes>"
            ]
          },
          "metadata": {
            "tags": []
          }
        }
      ]
    },
    {
      "cell_type": "markdown",
      "metadata": {
        "id": "JAYiKvAQz2Bz"
      },
      "source": [
        "## Selecionando as colunas para o modelo\n",
        "Após analisarmos a correlação com a nossa coluna alvo, vamos selecionar as colunas com maior correlação para o nosso dataset para o modelo. A faixa mínima escolhida foi de 50% de correlação (positiva ou negativa)."
      ]
    },
    {
      "cell_type": "code",
      "metadata": {
        "id": "dBbens7N2EFf",
        "outputId": "b7d525ce-5d5c-43b0-b54c-866b8e1c8271",
        "colab": {
          "base_uri": "https://localhost:8080/"
        }
      },
      "source": [
        "target_cols = columns_corr.where(lambda x : np.logical_or(x > 0.50, x < -0.50)).dropna().index.tolist()\n",
        "target_cols"
      ],
      "execution_count": null,
      "outputs": [
        {
          "output_type": "execute_result",
          "data": {
            "text/plain": [
              "['humidity_relative_air',\n",
              " 'humidity_relative_min_before',\n",
              " 'humidity_relative_max_before',\n",
              " 'wind_direction',\n",
              " 'global_radiation',\n",
              " 'temperature_min_before',\n",
              " 'temperature_max_before',\n",
              " 'temperature_air_dry_bulb']"
            ]
          },
          "metadata": {
            "tags": []
          },
          "execution_count": 23
        }
      ]
    },
    {
      "cell_type": "code",
      "metadata": {
        "id": "VafroYHCNI6X",
        "outputId": "a3ac371f-6f79-4454-f359-116204a6022c",
        "colab": {
          "base_uri": "https://localhost:8080/"
        }
      },
      "source": [
        "# Filtramos o DataFrame para apenas as colunas que queremos usar\n",
        "dataset = df_selected[target_cols]\n",
        "# Mostramos as dimensões do DataFrame\n",
        "print(dataset.shape)"
      ],
      "execution_count": null,
      "outputs": [
        {
          "output_type": "stream",
          "text": [
            "(12018, 8)\n"
          ],
          "name": "stdout"
        }
      ]
    },
    {
      "cell_type": "markdown",
      "metadata": {
        "id": "k14XynhlEv8x"
      },
      "source": [
        "# Explorando os dados selecionados\n",
        "Iremos criar uma função chamada `print_eda` que irá nos mostrar alguns gráficos e valores que irão nos ajudar na etapa de exploração e identificação de _outliers_."
      ]
    },
    {
      "cell_type": "code",
      "metadata": {
        "id": "UclOYenbEvqm"
      },
      "source": [
        "# Layout padrão\n",
        "default_layout = (8,2)\n",
        "# Figsize padrão\n",
        "default_figsize = (10,20)\n",
        "\n",
        "def plot_density(df):\n",
        "  \"\"\"Plota o gráfico de densidade.\n",
        "  \"\"\"\n",
        "  df.plot(kind=\"density\",\n",
        "          subplots=True,\n",
        "          sharex=False,\n",
        "          layout=default_layout,\n",
        "          figsize=default_figsize)\n",
        "  plt.tight_layout()\n",
        "  plt.show()\n",
        "\n",
        "def plot_box(df):\n",
        "  \"\"\"Plota o boxplot.\n",
        "  \"\"\"\n",
        "  df.plot(kind=\"box\",\n",
        "          subplots=True,\n",
        "          sharex=False,\n",
        "          layout=default_layout,\n",
        "          figsize=default_figsize)\n",
        "  plt.tight_layout()\n",
        "  plt.show()\n",
        "  \n",
        "def print_eda(df):\n",
        "  \"\"\"Mostra gráficos e valores relacionados a etapa de\n",
        "  Exploratory Data Analysis (EDA).\"\"\"\n",
        "  hr = '--------------------------------------------------------------'\n",
        "  print(\"Density\")\n",
        "  plot_density(df)\n",
        "\n",
        "  print(hr)\n",
        "  print(\"Box\")\n",
        "  plot_box(df)\n",
        "\n",
        "  print(hr)\n",
        "  print(\"Shape\")\n",
        "  print(df.shape)\n",
        "\n",
        "  print(hr)\n",
        "  print(\"Correlação\")\n",
        "  print(df.corr()[target_col].sort_values())\n",
        "\n",
        "  print(hr)\n",
        "  print(\"Heatmap\")\n",
        "  sns.heatmap(df.corr())"
      ],
      "execution_count": null,
      "outputs": []
    },
    {
      "cell_type": "code",
      "metadata": {
        "id": "5tjQSv6fE6iL",
        "outputId": "6bbc29d1-10b7-4cb8-b0e6-613a7a613661",
        "colab": {
          "base_uri": "https://localhost:8080/",
          "height": 1000
        }
      },
      "source": [
        "# Mostrando os gráficos e valores dos dados que temos até agora\n",
        "print_eda(dataset)"
      ],
      "execution_count": null,
      "outputs": [
        {
          "output_type": "stream",
          "text": [
            "Density\n"
          ],
          "name": "stdout"
        },
        {
          "output_type": "display_data",
          "data": {
            "image/png": "[encoded data removed]",
            "text/plain": [
              "<Figure size 720x1440 with 16 Axes>"
            ]
          },
          "metadata": {
            "tags": []
          }
        },
        {
          "output_type": "stream",
          "text": [
            "--------------------------------------------------------------\n",
            "Box\n"
          ],
          "name": "stdout"
        },
        {
          "output_type": "display_data",
          "data": {
            "image/png": "[encoded data removed]",
            "text/plain": [
              "<Figure size 720x1440 with 16 Axes>"
            ]
          },
          "metadata": {
            "tags": []
          }
        },
        {
          "output_type": "stream",
          "text": [
            "--------------------------------------------------------------\n",
            "Shape\n",
            "(12018, 8)\n",
            "--------------------------------------------------------------\n",
            "Correlação\n",
            "humidity_relative_air          -0.759900\n",
            "humidity_relative_min_before   -0.753720\n",
            "humidity_relative_max_before   -0.709979\n",
            "wind_direction                 -0.547639\n",
            "global_radiation                0.698207\n",
            "temperature_min_before          0.950094\n",
            "temperature_max_before          0.971995\n",
            "temperature_air_dry_bulb        1.000000\n",
            "Name: temperature_air_dry_bulb, dtype: float64\n",
            "--------------------------------------------------------------\n",
            "Heatmap\n"
          ],
          "name": "stdout"
        },
        {
          "output_type": "display_data",
          "data": {
            "image/png": "[encoded data removed]",
            "text/plain": [
              "<Figure size 432x288 with 2 Axes>"
            ]
          },
          "metadata": {
            "tags": []
          }
        }
      ]
    },
    {
      "cell_type": "markdown",
      "metadata": {
        "id": "RqtqCCQM2OOb"
      },
      "source": [
        "# Modelo inicial"
      ]
    },
    {
      "cell_type": "code",
      "metadata": {
        "id": "n_s5Xo0t0ISO",
        "outputId": "20d44cb3-52e8-4c20-c747-4da4f4c681a4",
        "colab": {
          "base_uri": "https://localhost:8080/",
          "height": 426
        }
      },
      "source": [
        "#rainfall_df = df[df['year'] >= 2019][['temperature_air_dry_bulb']]\n",
        "#rainfall_df = dataset[['temperature_air_dry_bulb']]\n",
        "rainfall_df = dataset\n",
        "rainfall_df"
      ],
      "execution_count": null,
      "outputs": [
        {
          "output_type": "execute_result",
          "data": {
            "text/html": [
              "<div>\n",
              "<style scoped>\n",
              "    .dataframe tbody tr th:only-of-type {\n",
              "        vertical-align: middle;\n",
              "    }\n",
              "\n",
              "    .dataframe tbody tr th {\n",
              "        vertical-align: top;\n",
              "    }\n",
              "\n",
              "    .dataframe thead th {\n",
              "        text-align: right;\n",
              "    }\n",
              "</style>\n",
              "<table border=\"1\" class=\"dataframe\">\n",
              "  <thead>\n",
              "    <tr style=\"text-align: right;\">\n",
              "      <th></th>\n",
              "      <th>humidity_relative_air</th>\n",
              "      <th>humidity_relative_min_before</th>\n",
              "      <th>humidity_relative_max_before</th>\n",
              "      <th>wind_direction</th>\n",
              "      <th>global_radiation</th>\n",
              "      <th>temperature_min_before</th>\n",
              "      <th>temperature_max_before</th>\n",
              "      <th>temperature_air_dry_bulb</th>\n",
              "    </tr>\n",
              "  </thead>\n",
              "  <tbody>\n",
              "    <tr>\n",
              "      <th>27033</th>\n",
              "      <td>84.0</td>\n",
              "      <td>80.0</td>\n",
              "      <td>84.0</td>\n",
              "      <td>194.0</td>\n",
              "      <td>34.5</td>\n",
              "      <td>25.8</td>\n",
              "      <td>26.9</td>\n",
              "      <td>25.8</td>\n",
              "    </tr>\n",
              "    <tr>\n",
              "      <th>27034</th>\n",
              "      <td>83.0</td>\n",
              "      <td>82.0</td>\n",
              "      <td>86.0</td>\n",
              "      <td>176.0</td>\n",
              "      <td>450.7</td>\n",
              "      <td>25.8</td>\n",
              "      <td>27.2</td>\n",
              "      <td>27.2</td>\n",
              "    </tr>\n",
              "    <tr>\n",
              "      <th>27035</th>\n",
              "      <td>72.0</td>\n",
              "      <td>72.0</td>\n",
              "      <td>83.0</td>\n",
              "      <td>157.0</td>\n",
              "      <td>1553.8</td>\n",
              "      <td>27.1</td>\n",
              "      <td>28.9</td>\n",
              "      <td>28.7</td>\n",
              "    </tr>\n",
              "    <tr>\n",
              "      <th>27036</th>\n",
              "      <td>71.0</td>\n",
              "      <td>69.0</td>\n",
              "      <td>76.0</td>\n",
              "      <td>140.0</td>\n",
              "      <td>1788.0</td>\n",
              "      <td>28.2</td>\n",
              "      <td>29.6</td>\n",
              "      <td>29.1</td>\n",
              "    </tr>\n",
              "    <tr>\n",
              "      <th>27037</th>\n",
              "      <td>67.0</td>\n",
              "      <td>65.0</td>\n",
              "      <td>76.0</td>\n",
              "      <td>137.0</td>\n",
              "      <td>2463.6</td>\n",
              "      <td>28.3</td>\n",
              "      <td>30.9</td>\n",
              "      <td>30.5</td>\n",
              "    </tr>\n",
              "    <tr>\n",
              "      <th>...</th>\n",
              "      <td>...</td>\n",
              "      <td>...</td>\n",
              "      <td>...</td>\n",
              "      <td>...</td>\n",
              "      <td>...</td>\n",
              "      <td>...</td>\n",
              "      <td>...</td>\n",
              "      <td>...</td>\n",
              "    </tr>\n",
              "    <tr>\n",
              "      <th>92921</th>\n",
              "      <td>67.0</td>\n",
              "      <td>62.0</td>\n",
              "      <td>67.0</td>\n",
              "      <td>136.0</td>\n",
              "      <td>2688.5</td>\n",
              "      <td>28.1</td>\n",
              "      <td>29.5</td>\n",
              "      <td>28.3</td>\n",
              "    </tr>\n",
              "    <tr>\n",
              "      <th>92922</th>\n",
              "      <td>71.0</td>\n",
              "      <td>65.0</td>\n",
              "      <td>71.0</td>\n",
              "      <td>132.0</td>\n",
              "      <td>1558.8</td>\n",
              "      <td>27.7</td>\n",
              "      <td>29.2</td>\n",
              "      <td>27.8</td>\n",
              "    </tr>\n",
              "    <tr>\n",
              "      <th>92923</th>\n",
              "      <td>73.0</td>\n",
              "      <td>66.0</td>\n",
              "      <td>74.0</td>\n",
              "      <td>139.0</td>\n",
              "      <td>1096.1</td>\n",
              "      <td>27.5</td>\n",
              "      <td>28.6</td>\n",
              "      <td>27.6</td>\n",
              "    </tr>\n",
              "    <tr>\n",
              "      <th>92924</th>\n",
              "      <td>76.0</td>\n",
              "      <td>73.0</td>\n",
              "      <td>76.0</td>\n",
              "      <td>150.0</td>\n",
              "      <td>314.8</td>\n",
              "      <td>26.8</td>\n",
              "      <td>27.9</td>\n",
              "      <td>27.0</td>\n",
              "    </tr>\n",
              "    <tr>\n",
              "      <th>92925</th>\n",
              "      <td>78.0</td>\n",
              "      <td>74.0</td>\n",
              "      <td>78.0</td>\n",
              "      <td>140.0</td>\n",
              "      <td>21.0</td>\n",
              "      <td>26.5</td>\n",
              "      <td>27.0</td>\n",
              "      <td>26.5</td>\n",
              "    </tr>\n",
              "  </tbody>\n",
              "</table>\n",
              "<p>12018 rows × 8 columns</p>\n",
              "</div>"
            ],
            "text/plain": [
              "       humidity_relative_air  ...  temperature_air_dry_bulb\n",
              "27033                   84.0  ...                      25.8\n",
              "27034                   83.0  ...                      27.2\n",
              "27035                   72.0  ...                      28.7\n",
              "27036                   71.0  ...                      29.1\n",
              "27037                   67.0  ...                      30.5\n",
              "...                      ...  ...                       ...\n",
              "92921                   67.0  ...                      28.3\n",
              "92922                   71.0  ...                      27.8\n",
              "92923                   73.0  ...                      27.6\n",
              "92924                   76.0  ...                      27.0\n",
              "92925                   78.0  ...                      26.5\n",
              "\n",
              "[12018 rows x 8 columns]"
            ]
          },
          "metadata": {
            "tags": []
          },
          "execution_count": 27
        }
      ]
    },
    {
      "cell_type": "code",
      "metadata": {
        "id": "o3CWq4xQ9efS"
      },
      "source": [
        "rainfall_df = tf.keras.utils.normalize(\n",
        "    rainfall_df, axis=-1, order=2\n",
        ")"
      ],
      "execution_count": null,
      "outputs": []
    },
    {
      "cell_type": "code",
      "metadata": {
        "id": "FezPCrEY9tW_",
        "outputId": "7bd751b2-449c-4260-a740-2cc1c9a2a382",
        "colab": {
          "base_uri": "https://localhost:8080/",
          "height": 217
        }
      },
      "source": [
        "rainfall_df.head()"
      ],
      "execution_count": null,
      "outputs": [
        {
          "output_type": "execute_result",
          "data": {
            "text/html": [
              "<div>\n",
              "<style scoped>\n",
              "    .dataframe tbody tr th:only-of-type {\n",
              "        vertical-align: middle;\n",
              "    }\n",
              "\n",
              "    .dataframe tbody tr th {\n",
              "        vertical-align: top;\n",
              "    }\n",
              "\n",
              "    .dataframe thead th {\n",
              "        text-align: right;\n",
              "    }\n",
              "</style>\n",
              "<table border=\"1\" class=\"dataframe\">\n",
              "  <thead>\n",
              "    <tr style=\"text-align: right;\">\n",
              "      <th></th>\n",
              "      <th>humidity_relative_air</th>\n",
              "      <th>humidity_relative_min_before</th>\n",
              "      <th>humidity_relative_max_before</th>\n",
              "      <th>wind_direction</th>\n",
              "      <th>global_radiation</th>\n",
              "      <th>temperature_min_before</th>\n",
              "      <th>temperature_max_before</th>\n",
              "      <th>temperature_air_dry_bulb</th>\n",
              "    </tr>\n",
              "  </thead>\n",
              "  <tbody>\n",
              "    <tr>\n",
              "      <th>27033</th>\n",
              "      <td>0.339015</td>\n",
              "      <td>0.322872</td>\n",
              "      <td>0.339015</td>\n",
              "      <td>0.782964</td>\n",
              "      <td>0.139238</td>\n",
              "      <td>0.104126</td>\n",
              "      <td>0.108566</td>\n",
              "      <td>0.104126</td>\n",
              "    </tr>\n",
              "    <tr>\n",
              "      <th>27034</th>\n",
              "      <td>0.163641</td>\n",
              "      <td>0.161669</td>\n",
              "      <td>0.169555</td>\n",
              "      <td>0.346997</td>\n",
              "      <td>0.888589</td>\n",
              "      <td>0.050867</td>\n",
              "      <td>0.053627</td>\n",
              "      <td>0.053627</td>\n",
              "    </tr>\n",
              "    <tr>\n",
              "      <th>27035</th>\n",
              "      <td>0.045919</td>\n",
              "      <td>0.045919</td>\n",
              "      <td>0.052934</td>\n",
              "      <td>0.100128</td>\n",
              "      <td>0.990950</td>\n",
              "      <td>0.017283</td>\n",
              "      <td>0.018431</td>\n",
              "      <td>0.018304</td>\n",
              "    </tr>\n",
              "    <tr>\n",
              "      <th>27036</th>\n",
              "      <td>0.039477</td>\n",
              "      <td>0.038365</td>\n",
              "      <td>0.042257</td>\n",
              "      <td>0.077842</td>\n",
              "      <td>0.994156</td>\n",
              "      <td>0.015680</td>\n",
              "      <td>0.016458</td>\n",
              "      <td>0.016180</td>\n",
              "    </tr>\n",
              "    <tr>\n",
              "      <th>27037</th>\n",
              "      <td>0.027116</td>\n",
              "      <td>0.026306</td>\n",
              "      <td>0.030758</td>\n",
              "      <td>0.055446</td>\n",
              "      <td>0.997052</td>\n",
              "      <td>0.011453</td>\n",
              "      <td>0.012506</td>\n",
              "      <td>0.012344</td>\n",
              "    </tr>\n",
              "  </tbody>\n",
              "</table>\n",
              "</div>"
            ],
            "text/plain": [
              "       humidity_relative_air  ...  temperature_air_dry_bulb\n",
              "27033               0.339015  ...                  0.104126\n",
              "27034               0.163641  ...                  0.053627\n",
              "27035               0.045919  ...                  0.018304\n",
              "27036               0.039477  ...                  0.016180\n",
              "27037               0.027116  ...                  0.012344\n",
              "\n",
              "[5 rows x 8 columns]"
            ]
          },
          "metadata": {
            "tags": []
          },
          "execution_count": 29
        }
      ]
    },
    {
      "cell_type": "code",
      "metadata": {
        "id": "SIzD6OWK0IAy"
      },
      "source": [
        "train_split= 0.9\n",
        "split_idx = int(len(rainfall_df) * 0.9)\n",
        "training_set = rainfall_df[:split_idx].values\n",
        "test_set = rainfall_df[split_idx:].values"
      ],
      "execution_count": null,
      "outputs": []
    },
    {
      "cell_type": "code",
      "metadata": {
        "id": "lioP6gco2keL"
      },
      "source": [
        "# 5-day prediction using 30 days data\n",
        "x_train = []\n",
        "y_train = []\n",
        "n_future = 12 #Next 5 days rainfall forecast\n",
        "n_past = 240 #Past 30 days\n",
        "for i in range(0, len(training_set) - n_past - n_future + 1):\n",
        "  x_train.append(training_set[i : i + n_past, 0])\n",
        "  y_train.append(training_set[i + n_past : i + n_past + n_future, 0])"
      ],
      "execution_count": null,
      "outputs": []
    },
    {
      "cell_type": "code",
      "metadata": {
        "id": "X5L6c0rx2mSB"
      },
      "source": [
        "x_train , y_train = np.array(x_train), np.array(y_train)\n",
        "x_train = np.reshape(x_train, (x_train.shape[0] , x_train.shape[1], 1))"
      ],
      "execution_count": null,
      "outputs": []
    },
    {
      "cell_type": "code",
      "metadata": {
        "id": "2ahbyob82qS8",
        "outputId": "f1aa50b2-c211-4b97-8e35-c3549ffe5947",
        "colab": {
          "base_uri": "https://localhost:8080/"
        }
      },
      "source": [
        "EPOCHS = 500\n",
        "BATCH_SIZE = 64\n",
        "regressor = Sequential()\n",
        "regressor.add(Bidirectional(LSTM(units=30, return_sequences=True,\n",
        "                                 input_shape=(x_train.shape[1], 1))))\n",
        "regressor.add(Dropout(0.2))\n",
        "regressor.add(LSTM(units=32, return_sequences=True))\n",
        "regressor.add(Dropout(0.3))\n",
        "regressor.add(LSTM(units=64, return_sequences=True))\n",
        "regressor.add(Dropout(0.3))\n",
        "regressor.add(LSTM(units=64, return_sequences=True))\n",
        "regressor.add(Dropout(0.3))\n",
        "regressor.add(LSTM(units=64, return_sequences=True))\n",
        "regressor.add(Dropout(0.3))\n",
        "regressor.add(LSTM(units=32))\n",
        "regressor.add(Dropout(0.2))\n",
        "regressor.add(Dense(units=n_future, activation='relu'))\n",
        "regressor.compile(\n",
        "    optimizer='adam',\n",
        "    loss='mean_squared_error',\n",
        "    metrics=['acc']\n",
        ")\n",
        "regressor.fit(\n",
        "    x_train,\n",
        "    y_train,\n",
        "    epochs=EPOCHS,\n",
        "    batch_size=BATCH_SIZE\n",
        ")\n"
      ],
      "execution_count": null,
      "outputs": [
        {
          "output_type": "stream",
          "text": [
            "Epoch 1/500\n",
            "166/166 [==============================] - 149s 898ms/step - loss: 0.0195 - acc: 0.0910\n",
            "Epoch 2/500\n",
            "166/166 [==============================] - 158s 952ms/step - loss: 0.0115 - acc: 0.3398\n",
            "Epoch 3/500\n",
            "166/166 [==============================] - 158s 951ms/step - loss: 0.0080 - acc: 0.4855\n",
            "Epoch 4/500\n",
            "166/166 [==============================] - 158s 953ms/step - loss: 0.0073 - acc: 0.5289\n",
            "Epoch 5/500\n",
            "166/166 [==============================] - 158s 953ms/step - loss: 0.0069 - acc: 0.5583\n",
            "Epoch 6/500\n",
            "166/166 [==============================] - 158s 954ms/step - loss: 0.0066 - acc: 0.5629\n",
            "Epoch 7/500\n",
            "166/166 [==============================] - 158s 950ms/step - loss: 0.0065 - acc: 0.5753\n",
            "Epoch 8/500\n",
            "166/166 [==============================] - 158s 953ms/step - loss: 0.0063 - acc: 0.5714\n",
            "Epoch 9/500\n",
            "166/166 [==============================] - 158s 951ms/step - loss: 0.0062 - acc: 0.5786\n",
            "Epoch 10/500\n",
            "166/166 [==============================] - 157s 947ms/step - loss: 0.0061 - acc: 0.5939\n",
            "Epoch 11/500\n",
            "166/166 [==============================] - 157s 948ms/step - loss: 0.0060 - acc: 0.5979\n",
            "Epoch 12/500\n",
            "166/166 [==============================] - 158s 952ms/step - loss: 0.0060 - acc: 0.5988\n",
            "Epoch 13/500\n",
            "166/166 [==============================] - 158s 951ms/step - loss: 0.0059 - acc: 0.6013\n",
            "Epoch 14/500\n",
            "166/166 [==============================] - 159s 956ms/step - loss: 0.0058 - acc: 0.5978\n",
            "Epoch 15/500\n",
            "166/166 [==============================] - 158s 952ms/step - loss: 0.0057 - acc: 0.6016\n",
            "Epoch 16/500\n",
            "166/166 [==============================] - 158s 953ms/step - loss: 0.0058 - acc: 0.6059\n",
            "Epoch 17/500\n",
            "166/166 [==============================] - 158s 951ms/step - loss: 0.0058 - acc: 0.6009\n",
            "Epoch 18/500\n",
            "166/166 [==============================] - 158s 951ms/step - loss: 0.0057 - acc: 0.6024\n",
            "Epoch 19/500\n",
            "166/166 [==============================] - 158s 949ms/step - loss: 0.0057 - acc: 0.6073\n",
            "Epoch 20/500\n",
            "166/166 [==============================] - 157s 948ms/step - loss: 0.0056 - acc: 0.6080\n",
            "Epoch 21/500\n",
            "166/166 [==============================] - 158s 951ms/step - loss: 0.0057 - acc: 0.6128\n",
            "Epoch 22/500\n",
            "166/166 [==============================] - 161s 968ms/step - loss: 0.0056 - acc: 0.6184\n",
            "Epoch 23/500\n",
            "166/166 [==============================] - 158s 953ms/step - loss: 0.0056 - acc: 0.6071\n",
            "Epoch 24/500\n",
            "166/166 [==============================] - 158s 951ms/step - loss: 0.0056 - acc: 0.6118\n",
            "Epoch 25/500\n",
            "166/166 [==============================] - 158s 955ms/step - loss: 0.0055 - acc: 0.6129\n",
            "Epoch 26/500\n",
            "166/166 [==============================] - 161s 971ms/step - loss: 0.0056 - acc: 0.6061\n",
            "Epoch 27/500\n",
            "166/166 [==============================] - 158s 953ms/step - loss: 0.0055 - acc: 0.6151\n",
            "Epoch 28/500\n",
            "166/166 [==============================] - 157s 949ms/step - loss: 0.0055 - acc: 0.6114\n",
            "Epoch 29/500\n",
            "166/166 [==============================] - 158s 953ms/step - loss: 0.0055 - acc: 0.6121\n",
            "Epoch 30/500\n",
            "166/166 [==============================] - 158s 952ms/step - loss: 0.0055 - acc: 0.6204\n",
            "Epoch 31/500\n",
            "166/166 [==============================] - 160s 965ms/step - loss: 0.0054 - acc: 0.6201\n",
            "Epoch 32/500\n",
            "166/166 [==============================] - 159s 958ms/step - loss: 0.0054 - acc: 0.6191\n",
            "Epoch 33/500\n",
            "166/166 [==============================] - 159s 958ms/step - loss: 0.0054 - acc: 0.6194\n",
            "Epoch 34/500\n",
            "166/166 [==============================] - 158s 954ms/step - loss: 0.0054 - acc: 0.6207\n",
            "Epoch 35/500\n",
            "166/166 [==============================] - 158s 952ms/step - loss: 0.0053 - acc: 0.6233\n",
            "Epoch 36/500\n",
            "166/166 [==============================] - 157s 947ms/step - loss: 0.0054 - acc: 0.6202\n",
            "Epoch 37/500\n",
            "166/166 [==============================] - 158s 949ms/step - loss: 0.0053 - acc: 0.6204\n",
            "Epoch 38/500\n",
            "166/166 [==============================] - 157s 946ms/step - loss: 0.0053 - acc: 0.6262\n",
            "Epoch 39/500\n",
            "166/166 [==============================] - 157s 949ms/step - loss: 0.0052 - acc: 0.6256\n",
            "Epoch 40/500\n",
            "166/166 [==============================] - 157s 948ms/step - loss: 0.0052 - acc: 0.6227\n",
            "Epoch 41/500\n",
            "166/166 [==============================] - 157s 947ms/step - loss: 0.0052 - acc: 0.6237\n",
            "Epoch 42/500\n",
            "166/166 [==============================] - 157s 946ms/step - loss: 0.0052 - acc: 0.6205\n",
            "Epoch 43/500\n",
            "166/166 [==============================] - 157s 947ms/step - loss: 0.0052 - acc: 0.6337\n",
            "Epoch 44/500\n",
            "166/166 [==============================] - 157s 948ms/step - loss: 0.0052 - acc: 0.6294\n",
            "Epoch 45/500\n",
            "166/166 [==============================] - 161s 968ms/step - loss: 0.0051 - acc: 0.6227\n",
            "Epoch 46/500\n",
            "166/166 [==============================] - 157s 948ms/step - loss: 0.0051 - acc: 0.6193\n",
            "Epoch 47/500\n",
            "166/166 [==============================] - 158s 949ms/step - loss: 0.0050 - acc: 0.6283\n",
            "Epoch 48/500\n",
            "166/166 [==============================] - 157s 947ms/step - loss: 0.0050 - acc: 0.6306\n",
            "Epoch 49/500\n",
            "166/166 [==============================] - 162s 974ms/step - loss: 0.0050 - acc: 0.6289\n",
            "Epoch 50/500\n",
            "166/166 [==============================] - 157s 948ms/step - loss: 0.0050 - acc: 0.6305\n",
            "Epoch 51/500\n",
            "166/166 [==============================] - 158s 950ms/step - loss: 0.0050 - acc: 0.6289\n",
            "Epoch 52/500\n",
            "166/166 [==============================] - 158s 954ms/step - loss: 0.0049 - acc: 0.6279\n",
            "Epoch 53/500\n",
            "166/166 [==============================] - 164s 985ms/step - loss: 0.0049 - acc: 0.6314\n",
            "Epoch 54/500\n",
            "166/166 [==============================] - 159s 956ms/step - loss: 0.0049 - acc: 0.6284\n",
            "Epoch 55/500\n",
            "166/166 [==============================] - 158s 954ms/step - loss: 0.0048 - acc: 0.6330\n",
            "Epoch 56/500\n",
            "166/166 [==============================] - 158s 953ms/step - loss: 0.0047 - acc: 0.6345\n",
            "Epoch 57/500\n",
            "166/166 [==============================] - 160s 962ms/step - loss: 0.0047 - acc: 0.6324\n",
            "Epoch 58/500\n",
            "166/166 [==============================] - 160s 962ms/step - loss: 0.0047 - acc: 0.6278\n",
            "Epoch 59/500\n",
            "166/166 [==============================] - 159s 960ms/step - loss: 0.0049 - acc: 0.6255\n",
            "Epoch 60/500\n",
            "166/166 [==============================] - 158s 953ms/step - loss: 0.0046 - acc: 0.6411\n",
            "Epoch 61/500\n",
            "166/166 [==============================] - 158s 951ms/step - loss: 0.0046 - acc: 0.6340\n",
            "Epoch 62/500\n",
            "166/166 [==============================] - 158s 954ms/step - loss: 0.0045 - acc: 0.6358\n",
            "Epoch 63/500\n",
            "166/166 [==============================] - 159s 955ms/step - loss: 0.0047 - acc: 0.6314\n",
            "Epoch 64/500\n",
            "166/166 [==============================] - 159s 956ms/step - loss: 0.0044 - acc: 0.6345\n",
            "Epoch 65/500\n",
            "166/166 [==============================] - 158s 952ms/step - loss: 0.0043 - acc: 0.6320\n",
            "Epoch 66/500\n",
            "166/166 [==============================] - 158s 953ms/step - loss: 0.0043 - acc: 0.6424\n",
            "Epoch 67/500\n",
            "166/166 [==============================] - 161s 973ms/step - loss: 0.0044 - acc: 0.6334\n",
            "Epoch 68/500\n",
            "166/166 [==============================] - 158s 952ms/step - loss: 0.0043 - acc: 0.6378\n",
            "Epoch 69/500\n",
            "166/166 [==============================] - 158s 953ms/step - loss: 0.0041 - acc: 0.6504\n",
            "Epoch 70/500\n",
            "166/166 [==============================] - 158s 951ms/step - loss: 0.0041 - acc: 0.6419\n",
            "Epoch 71/500\n",
            "166/166 [==============================] - 162s 974ms/step - loss: 0.0040 - acc: 0.6456\n",
            "Epoch 72/500\n",
            "166/166 [==============================] - 160s 961ms/step - loss: 0.0041 - acc: 0.6434\n",
            "Epoch 73/500\n",
            "166/166 [==============================] - 159s 958ms/step - loss: 0.0041 - acc: 0.6430\n",
            "Epoch 74/500\n",
            "166/166 [==============================] - 159s 957ms/step - loss: 0.0041 - acc: 0.6421\n",
            "Epoch 75/500\n",
            "166/166 [==============================] - 160s 963ms/step - loss: 0.0039 - acc: 0.6523\n",
            "Epoch 76/500\n",
            "166/166 [==============================] - 159s 955ms/step - loss: 0.0039 - acc: 0.6531\n",
            "Epoch 77/500\n",
            "166/166 [==============================] - 158s 952ms/step - loss: 0.0037 - acc: 0.6437\n",
            "Epoch 78/500\n",
            "166/166 [==============================] - 159s 958ms/step - loss: 0.0038 - acc: 0.6446\n",
            "Epoch 79/500\n",
            "166/166 [==============================] - 158s 954ms/step - loss: 0.0036 - acc: 0.6514\n",
            "Epoch 80/500\n",
            "166/166 [==============================] - 159s 957ms/step - loss: 0.0037 - acc: 0.6473\n",
            "Epoch 81/500\n",
            "166/166 [==============================] - 158s 952ms/step - loss: 0.0039 - acc: 0.6450\n",
            "Epoch 82/500\n",
            "166/166 [==============================] - 159s 956ms/step - loss: 0.0035 - acc: 0.6501\n",
            "Epoch 83/500\n",
            "166/166 [==============================] - 158s 950ms/step - loss: 0.0038 - acc: 0.6404\n",
            "Epoch 84/500\n",
            "166/166 [==============================] - 158s 953ms/step - loss: 0.0035 - acc: 0.6455\n",
            "Epoch 85/500\n",
            "166/166 [==============================] - 158s 949ms/step - loss: 0.0034 - acc: 0.6507\n",
            "Epoch 86/500\n",
            "166/166 [==============================] - 158s 952ms/step - loss: 0.0034 - acc: 0.6536\n",
            "Epoch 87/500\n",
            "166/166 [==============================] - 158s 951ms/step - loss: 0.0037 - acc: 0.6503\n",
            "Epoch 88/500\n",
            "166/166 [==============================] - 158s 955ms/step - loss: 0.0033 - acc: 0.6515\n",
            "Epoch 89/500\n",
            "166/166 [==============================] - 158s 950ms/step - loss: 0.0032 - acc: 0.6549\n",
            "Epoch 90/500\n",
            "166/166 [==============================] - 162s 974ms/step - loss: 0.0032 - acc: 0.6594\n",
            "Epoch 91/500\n",
            "166/166 [==============================] - 160s 962ms/step - loss: 0.0031 - acc: 0.6578\n",
            "Epoch 92/500\n",
            "166/166 [==============================] - 160s 962ms/step - loss: 0.0031 - acc: 0.6545\n",
            "Epoch 93/500\n",
            "166/166 [==============================] - 159s 957ms/step - loss: 0.0053 - acc: 0.6177\n",
            "Epoch 94/500\n",
            "166/166 [==============================] - 164s 988ms/step - loss: 0.0050 - acc: 0.6272\n",
            "Epoch 95/500\n",
            "166/166 [==============================] - 159s 958ms/step - loss: 0.0034 - acc: 0.6605\n",
            "Epoch 96/500\n",
            "166/166 [==============================] - 159s 956ms/step - loss: 0.0030 - acc: 0.6621\n",
            "Epoch 97/500\n",
            "166/166 [==============================] - 159s 959ms/step - loss: 0.0032 - acc: 0.6571\n",
            "Epoch 98/500\n",
            "166/166 [==============================] - 160s 967ms/step - loss: 0.0030 - acc: 0.6535\n",
            "Epoch 99/500\n",
            "166/166 [==============================] - 158s 954ms/step - loss: 0.0029 - acc: 0.6648\n",
            "Epoch 100/500\n",
            "166/166 [==============================] - 158s 952ms/step - loss: 0.0029 - acc: 0.6597\n",
            "Epoch 101/500\n",
            "166/166 [==============================] - 161s 971ms/step - loss: 0.0033 - acc: 0.6548\n",
            "Epoch 102/500\n",
            "166/166 [==============================] - 158s 952ms/step - loss: 0.0031 - acc: 0.6517\n",
            "Epoch 103/500\n",
            "166/166 [==============================] - 159s 957ms/step - loss: 0.0029 - acc: 0.6575\n",
            "Epoch 104/500\n",
            "166/166 [==============================] - 158s 950ms/step - loss: 0.0028 - acc: 0.6606\n",
            "Epoch 105/500\n",
            "166/166 [==============================] - 162s 973ms/step - loss: 0.0027 - acc: 0.6628\n",
            "Epoch 106/500\n",
            "166/166 [==============================] - 158s 954ms/step - loss: 0.0028 - acc: 0.6599\n",
            "Epoch 107/500\n",
            "166/166 [==============================] - 159s 958ms/step - loss: 0.0027 - acc: 0.6619\n",
            "Epoch 108/500\n",
            "166/166 [==============================] - 159s 959ms/step - loss: 0.0027 - acc: 0.6640\n",
            "Epoch 109/500\n",
            "166/166 [==============================] - 161s 968ms/step - loss: 0.0029 - acc: 0.6534\n",
            "Epoch 110/500\n",
            "166/166 [==============================] - 159s 955ms/step - loss: 0.0027 - acc: 0.6662\n",
            "Epoch 111/500\n",
            "166/166 [==============================] - 159s 957ms/step - loss: 0.0025 - acc: 0.6605\n",
            "Epoch 112/500\n",
            "166/166 [==============================] - 158s 951ms/step - loss: 0.0027 - acc: 0.6550\n",
            "Epoch 113/500\n",
            "166/166 [==============================] - 159s 960ms/step - loss: 0.0029 - acc: 0.6641\n",
            "Epoch 114/500\n",
            "166/166 [==============================] - 158s 954ms/step - loss: 0.0027 - acc: 0.6619\n",
            "Epoch 115/500\n",
            "166/166 [==============================] - 159s 956ms/step - loss: 0.0027 - acc: 0.6598\n",
            "Epoch 116/500\n",
            "166/166 [==============================] - 158s 952ms/step - loss: 0.0025 - acc: 0.6676\n",
            "Epoch 117/500\n",
            "166/166 [==============================] - 159s 957ms/step - loss: 0.0024 - acc: 0.6735\n",
            "Epoch 118/500\n",
            "166/166 [==============================] - 158s 951ms/step - loss: 0.0024 - acc: 0.6706\n",
            "Epoch 119/500\n",
            "166/166 [==============================] - 159s 955ms/step - loss: 0.0024 - acc: 0.6718\n",
            "Epoch 120/500\n",
            "166/166 [==============================] - 158s 954ms/step - loss: 0.0025 - acc: 0.6631\n",
            "Epoch 121/500\n",
            "166/166 [==============================] - 158s 953ms/step - loss: 0.0024 - acc: 0.6667\n",
            "Epoch 122/500\n",
            "166/166 [==============================] - 158s 951ms/step - loss: 0.0024 - acc: 0.6677\n",
            "Epoch 123/500\n",
            "166/166 [==============================] - 159s 956ms/step - loss: 0.0024 - acc: 0.6723\n",
            "Epoch 124/500\n",
            "166/166 [==============================] - 158s 953ms/step - loss: 0.0023 - acc: 0.6709\n",
            "Epoch 125/500\n",
            "166/166 [==============================] - 159s 957ms/step - loss: 0.0023 - acc: 0.6694\n",
            "Epoch 126/500\n",
            "166/166 [==============================] - 158s 954ms/step - loss: 0.0023 - acc: 0.6708\n",
            "Epoch 127/500\n",
            "166/166 [==============================] - 158s 954ms/step - loss: 0.0025 - acc: 0.6624\n",
            "Epoch 128/500\n",
            "166/166 [==============================] - 158s 953ms/step - loss: 0.0023 - acc: 0.6704\n",
            "Epoch 129/500\n",
            "166/166 [==============================] - 158s 953ms/step - loss: 0.0022 - acc: 0.6720\n",
            "Epoch 130/500\n",
            "166/166 [==============================] - 159s 955ms/step - loss: 0.0024 - acc: 0.6576\n",
            "Epoch 131/500\n",
            "166/166 [==============================] - 159s 955ms/step - loss: 0.0024 - acc: 0.6688\n",
            "Epoch 132/500\n",
            "166/166 [==============================] - 162s 976ms/step - loss: 0.0022 - acc: 0.6681\n",
            "Epoch 133/500\n",
            "166/166 [==============================] - 158s 954ms/step - loss: 0.0021 - acc: 0.6753\n",
            "Epoch 134/500\n",
            "166/166 [==============================] - 160s 965ms/step - loss: 0.0021 - acc: 0.6762\n",
            "Epoch 135/500\n",
            "166/166 [==============================] - 160s 961ms/step - loss: 0.0021 - acc: 0.6759\n",
            "Epoch 136/500\n",
            "166/166 [==============================] - 164s 986ms/step - loss: 0.0022 - acc: 0.6689\n",
            "Epoch 137/500\n",
            "166/166 [==============================] - 159s 956ms/step - loss: 0.0021 - acc: 0.6772\n",
            "Epoch 138/500\n",
            "166/166 [==============================] - 160s 962ms/step - loss: 0.0040 - acc: 0.6300\n",
            "Epoch 139/500\n",
            "166/166 [==============================] - 159s 960ms/step - loss: 0.0030 - acc: 0.6530\n",
            "Epoch 140/500\n",
            "166/166 [==============================] - 165s 992ms/step - loss: 0.0025 - acc: 0.6689\n",
            "Epoch 141/500\n",
            "166/166 [==============================] - 159s 961ms/step - loss: 0.0023 - acc: 0.6668\n",
            "Epoch 142/500\n",
            "166/166 [==============================] - 160s 964ms/step - loss: 0.0021 - acc: 0.6747\n",
            "Epoch 143/500\n",
            "166/166 [==============================] - 159s 956ms/step - loss: 0.0020 - acc: 0.6681\n",
            "Epoch 144/500\n",
            "166/166 [==============================] - 162s 976ms/step - loss: 0.0020 - acc: 0.6738\n",
            "Epoch 145/500\n",
            "166/166 [==============================] - 158s 951ms/step - loss: 0.0020 - acc: 0.6769\n",
            "Epoch 146/500\n",
            "166/166 [==============================] - 160s 961ms/step - loss: 0.0025 - acc: 0.6646\n",
            "Epoch 147/500\n",
            "166/166 [==============================] - 161s 973ms/step - loss: 0.0021 - acc: 0.6737\n",
            "Epoch 148/500\n",
            "166/166 [==============================] - 158s 952ms/step - loss: 0.0020 - acc: 0.6764\n",
            "Epoch 149/500\n",
            "166/166 [==============================] - 158s 954ms/step - loss: 0.0019 - acc: 0.6765\n",
            "Epoch 150/500\n",
            "166/166 [==============================] - 158s 950ms/step - loss: 0.0019 - acc: 0.6792\n",
            "Epoch 151/500\n",
            "166/166 [==============================] - 161s 970ms/step - loss: 0.0019 - acc: 0.6790\n",
            "Epoch 152/500\n",
            "166/166 [==============================] - 158s 953ms/step - loss: 0.0019 - acc: 0.6773\n",
            "Epoch 153/500\n",
            "166/166 [==============================] - 158s 951ms/step - loss: 0.0018 - acc: 0.6841\n",
            "Epoch 154/500\n",
            "166/166 [==============================] - 158s 952ms/step - loss: 0.0021 - acc: 0.6742\n",
            "Epoch 155/500\n",
            "166/166 [==============================] - 158s 950ms/step - loss: 0.0021 - acc: 0.6762\n",
            "Epoch 156/500\n",
            "166/166 [==============================] - 158s 952ms/step - loss: 0.0019 - acc: 0.6829\n",
            "Epoch 157/500\n",
            "166/166 [==============================] - 159s 955ms/step - loss: 0.0019 - acc: 0.6808\n",
            "Epoch 158/500\n",
            "166/166 [==============================] - 159s 956ms/step - loss: 0.0021 - acc: 0.6659\n",
            "Epoch 159/500\n",
            "166/166 [==============================] - 158s 954ms/step - loss: 0.0019 - acc: 0.6819\n",
            "Epoch 160/500\n",
            "166/166 [==============================] - 158s 954ms/step - loss: 0.0019 - acc: 0.6823\n",
            "Epoch 161/500\n",
            "166/166 [==============================] - 158s 953ms/step - loss: 0.0018 - acc: 0.6838\n",
            "Epoch 162/500\n",
            "166/166 [==============================] - 158s 954ms/step - loss: 0.0018 - acc: 0.6875\n",
            "Epoch 163/500\n",
            "166/166 [==============================] - 158s 954ms/step - loss: 0.0018 - acc: 0.6840\n",
            "Epoch 164/500\n",
            "166/166 [==============================] - 159s 957ms/step - loss: 0.0018 - acc: 0.6797\n",
            "Epoch 165/500\n",
            "166/166 [==============================] - 159s 957ms/step - loss: 0.0018 - acc: 0.6860\n",
            "Epoch 166/500\n",
            "166/166 [==============================] - 159s 956ms/step - loss: 0.0017 - acc: 0.6911\n",
            "Epoch 167/500\n",
            "166/166 [==============================] - 159s 955ms/step - loss: 0.0018 - acc: 0.6847\n",
            "Epoch 168/500\n",
            "166/166 [==============================] - 159s 956ms/step - loss: 0.0018 - acc: 0.6814\n",
            "Epoch 169/500\n",
            "166/166 [==============================] - 162s 977ms/step - loss: 0.0020 - acc: 0.6816\n",
            "Epoch 170/500\n",
            "166/166 [==============================] - 159s 957ms/step - loss: 0.0021 - acc: 0.6756\n",
            "Epoch 171/500\n",
            "166/166 [==============================] - 159s 957ms/step - loss: 0.0017 - acc: 0.6885\n",
            "Epoch 172/500\n",
            "166/166 [==============================] - 159s 957ms/step - loss: 0.0026 - acc: 0.6619\n",
            "Epoch 173/500\n",
            "166/166 [==============================] - 163s 979ms/step - loss: 0.0018 - acc: 0.6830\n",
            "Epoch 174/500\n",
            "166/166 [==============================] - 159s 957ms/step - loss: 0.0017 - acc: 0.6909\n",
            "Epoch 175/500\n",
            "166/166 [==============================] - 159s 960ms/step - loss: 0.0017 - acc: 0.6874\n",
            "Epoch 176/500\n",
            "166/166 [==============================] - 163s 980ms/step - loss: 0.0017 - acc: 0.6894\n",
            "Epoch 177/500\n",
            "166/166 [==============================] - 159s 958ms/step - loss: 0.0017 - acc: 0.6884\n",
            "Epoch 178/500\n",
            "166/166 [==============================] - 159s 960ms/step - loss: 0.0016 - acc: 0.6881\n",
            "Epoch 179/500\n",
            "166/166 [==============================] - 160s 962ms/step - loss: 0.0016 - acc: 0.6929\n",
            "Epoch 180/500\n",
            "166/166 [==============================] - 163s 980ms/step - loss: 0.0016 - acc: 0.6937\n",
            "Epoch 181/500\n",
            "166/166 [==============================] - 159s 960ms/step - loss: 0.0017 - acc: 0.6863\n",
            "Epoch 182/500\n",
            "166/166 [==============================] - 159s 959ms/step - loss: 0.0017 - acc: 0.6913\n",
            "Epoch 183/500\n",
            "166/166 [==============================] - 159s 960ms/step - loss: 0.0017 - acc: 0.6894\n",
            "Epoch 184/500\n",
            "166/166 [==============================] - 160s 961ms/step - loss: 0.0017 - acc: 0.6930\n",
            "Epoch 185/500\n",
            "166/166 [==============================] - 159s 960ms/step - loss: 0.0016 - acc: 0.6871\n",
            "Epoch 186/500\n",
            "166/166 [==============================] - 159s 958ms/step - loss: 0.0020 - acc: 0.6801\n",
            "Epoch 187/500\n",
            "166/166 [==============================] - 160s 962ms/step - loss: 0.0018 - acc: 0.6856\n",
            "Epoch 188/500\n",
            "166/166 [==============================] - 162s 977ms/step - loss: 0.0017 - acc: 0.7005\n",
            "Epoch 189/500\n",
            "166/166 [==============================] - 167s 1s/step - loss: 0.0016 - acc: 0.6906\n",
            "Epoch 190/500\n",
            "166/166 [==============================] - 176s 1s/step - loss: 0.0016 - acc: 0.6946\n",
            "Epoch 191/500\n",
            "166/166 [==============================] - 176s 1s/step - loss: 0.0016 - acc: 0.6969\n",
            "Epoch 192/500\n",
            "166/166 [==============================] - 178s 1s/step - loss: 0.0016 - acc: 0.6968\n",
            "Epoch 193/500\n",
            "166/166 [==============================] - 176s 1s/step - loss: 0.0016 - acc: 0.6925\n",
            "Epoch 194/500\n",
            "166/166 [==============================] - 175s 1s/step - loss: 0.0016 - acc: 0.6912\n",
            "Epoch 195/500\n",
            "166/166 [==============================] - 175s 1s/step - loss: 0.0016 - acc: 0.6929\n",
            "Epoch 196/500\n",
            "166/166 [==============================] - 178s 1s/step - loss: 0.0016 - acc: 0.6889\n",
            "Epoch 197/500\n",
            "166/166 [==============================] - 175s 1s/step - loss: 0.0016 - acc: 0.6934\n",
            "Epoch 198/500\n",
            "166/166 [==============================] - 175s 1s/step - loss: 0.0040 - acc: 0.6432\n",
            "Epoch 199/500\n",
            "166/166 [==============================] - 175s 1s/step - loss: 0.0022 - acc: 0.6805\n",
            "Epoch 200/500\n",
            "166/166 [==============================] - 180s 1s/step - loss: 0.0017 - acc: 0.6951\n",
            "Epoch 201/500\n",
            "166/166 [==============================] - 177s 1s/step - loss: 0.0016 - acc: 0.6914\n",
            "Epoch 202/500\n",
            "166/166 [==============================] - 175s 1s/step - loss: 0.0016 - acc: 0.7005\n",
            "Epoch 203/500\n",
            "166/166 [==============================] - 176s 1s/step - loss: 0.0016 - acc: 0.6984\n",
            "Epoch 204/500\n",
            "166/166 [==============================] - 176s 1s/step - loss: 0.0016 - acc: 0.6947\n",
            "Epoch 205/500\n",
            "166/166 [==============================] - 177s 1s/step - loss: 0.0015 - acc: 0.7024\n",
            "Epoch 206/500\n",
            "166/166 [==============================] - 175s 1s/step - loss: 0.0016 - acc: 0.7005\n",
            "Epoch 207/500\n",
            "166/166 [==============================] - 178s 1s/step - loss: 0.0015 - acc: 0.6982\n",
            "Epoch 208/500\n",
            "166/166 [==============================] - 176s 1s/step - loss: 0.0015 - acc: 0.7000\n",
            "Epoch 209/500\n",
            "166/166 [==============================] - 175s 1s/step - loss: 0.0018 - acc: 0.6895\n",
            "Epoch 210/500\n",
            "166/166 [==============================] - 176s 1s/step - loss: 0.0030 - acc: 0.6699\n",
            "Epoch 211/500\n",
            "166/166 [==============================] - 178s 1s/step - loss: 0.0018 - acc: 0.6866\n",
            "Epoch 212/500\n",
            "166/166 [==============================] - 176s 1s/step - loss: 0.0016 - acc: 0.6941\n",
            "Epoch 213/500\n",
            "166/166 [==============================] - 176s 1s/step - loss: 0.0016 - acc: 0.7033\n",
            "Epoch 214/500\n",
            "166/166 [==============================] - 176s 1s/step - loss: 0.0015 - acc: 0.7018\n",
            "Epoch 215/500\n",
            "166/166 [==============================] - 182s 1s/step - loss: 0.0015 - acc: 0.6999\n",
            "Epoch 216/500\n",
            "166/166 [==============================] - 177s 1s/step - loss: 0.0015 - acc: 0.7101\n",
            "Epoch 217/500\n",
            "166/166 [==============================] - 176s 1s/step - loss: 0.0015 - acc: 0.6932\n",
            "Epoch 218/500\n",
            "166/166 [==============================] - 175s 1s/step - loss: 0.0015 - acc: 0.7032\n",
            "Epoch 219/500\n",
            "166/166 [==============================] - 177s 1s/step - loss: 0.0015 - acc: 0.6994\n",
            "Epoch 220/500\n",
            "166/166 [==============================] - 180s 1s/step - loss: 0.0015 - acc: 0.6997\n",
            "Epoch 221/500\n",
            "166/166 [==============================] - 175s 1s/step - loss: 0.0015 - acc: 0.7040\n",
            "Epoch 222/500\n",
            "166/166 [==============================] - 176s 1s/step - loss: 0.0015 - acc: 0.7037\n",
            "Epoch 223/500\n",
            "166/166 [==============================] - 174s 1s/step - loss: 0.0016 - acc: 0.6961\n",
            "Epoch 224/500\n",
            "166/166 [==============================] - 176s 1s/step - loss: 0.0015 - acc: 0.6972\n",
            "Epoch 225/500\n",
            "166/166 [==============================] - 176s 1s/step - loss: 0.0015 - acc: 0.7010\n",
            "Epoch 226/500\n",
            "166/166 [==============================] - 181s 1s/step - loss: 0.0015 - acc: 0.7004\n",
            "Epoch 227/500\n",
            "166/166 [==============================] - 175s 1s/step - loss: 0.0032 - acc: 0.6549\n",
            "Epoch 228/500\n",
            "166/166 [==============================] - 175s 1s/step - loss: 0.0045 - acc: 0.6378\n",
            "Epoch 229/500\n",
            "166/166 [==============================] - 174s 1s/step - loss: 0.0022 - acc: 0.6766\n",
            "Epoch 230/500\n",
            "166/166 [==============================] - 175s 1s/step - loss: 0.0017 - acc: 0.6941\n",
            "Epoch 231/500\n",
            "166/166 [==============================] - 175s 1s/step - loss: 0.0016 - acc: 0.6971\n",
            "Epoch 232/500\n",
            "166/166 [==============================] - 175s 1s/step - loss: 0.0015 - acc: 0.7010\n",
            "Epoch 233/500\n",
            "166/166 [==============================] - 175s 1s/step - loss: 0.0015 - acc: 0.6986\n",
            "Epoch 234/500\n",
            "166/166 [==============================] - 174s 1s/step - loss: 0.0015 - acc: 0.7016\n",
            "Epoch 235/500\n",
            "166/166 [==============================] - 175s 1s/step - loss: 0.0015 - acc: 0.7035\n",
            "Epoch 236/500\n",
            "166/166 [==============================] - 174s 1s/step - loss: 0.0015 - acc: 0.7004\n",
            "Epoch 237/500\n",
            "166/166 [==============================] - 179s 1s/step - loss: 0.0015 - acc: 0.7083\n",
            "Epoch 238/500\n",
            "166/166 [==============================] - 175s 1s/step - loss: 0.0014 - acc: 0.7035\n",
            "Epoch 239/500\n",
            "166/166 [==============================] - 175s 1s/step - loss: 0.0015 - acc: 0.7053\n",
            "Epoch 240/500\n",
            "166/166 [==============================] - 175s 1s/step - loss: 0.0018 - acc: 0.6898\n",
            "Epoch 241/500\n",
            "166/166 [==============================] - 175s 1s/step - loss: 0.0016 - acc: 0.7007\n",
            "Epoch 242/500\n",
            "166/166 [==============================] - 175s 1s/step - loss: 0.0015 - acc: 0.6984\n",
            "Epoch 243/500\n",
            "166/166 [==============================] - 174s 1s/step - loss: 0.0015 - acc: 0.7059\n",
            "Epoch 244/500\n",
            "166/166 [==============================] - 179s 1s/step - loss: 0.0015 - acc: 0.7032\n",
            "Epoch 245/500\n",
            "166/166 [==============================] - 175s 1s/step - loss: 0.0015 - acc: 0.7045\n",
            "Epoch 246/500\n",
            "166/166 [==============================] - 174s 1s/step - loss: 0.0014 - acc: 0.7028\n",
            "Epoch 247/500\n",
            "166/166 [==============================] - 175s 1s/step - loss: 0.0014 - acc: 0.7060\n",
            "Epoch 248/500\n",
            "166/166 [==============================] - 175s 1s/step - loss: 0.0015 - acc: 0.7000\n",
            "Epoch 249/500\n",
            "166/166 [==============================] - 178s 1s/step - loss: 0.0015 - acc: 0.7012\n",
            "Epoch 250/500\n",
            "166/166 [==============================] - 175s 1s/step - loss: 0.0038 - acc: 0.6477\n",
            "Epoch 251/500\n",
            "166/166 [==============================] - 175s 1s/step - loss: 0.0021 - acc: 0.6832\n",
            "Epoch 252/500\n",
            "166/166 [==============================] - 174s 1s/step - loss: 0.0016 - acc: 0.7002\n",
            "Epoch 253/500\n",
            "166/166 [==============================] - 175s 1s/step - loss: 0.0015 - acc: 0.7051\n",
            "Epoch 254/500\n",
            "166/166 [==============================] - 175s 1s/step - loss: 0.0015 - acc: 0.7032\n",
            "Epoch 255/500\n",
            "166/166 [==============================] - 175s 1s/step - loss: 0.0015 - acc: 0.7010\n",
            "Epoch 256/500\n",
            "166/166 [==============================] - 178s 1s/step - loss: 0.0015 - acc: 0.7049\n",
            "Epoch 257/500\n",
            "166/166 [==============================] - 174s 1s/step - loss: 0.0014 - acc: 0.7014\n",
            "Epoch 258/500\n",
            "166/166 [==============================] - 176s 1s/step - loss: 0.0014 - acc: 0.7020\n",
            "Epoch 259/500\n",
            "166/166 [==============================] - 174s 1s/step - loss: 0.0014 - acc: 0.7095\n",
            "Epoch 260/500\n",
            "166/166 [==============================] - 175s 1s/step - loss: 0.0016 - acc: 0.6963\n",
            "Epoch 261/500\n",
            "  9/166 [>.............................] - ETA: 2:28 - loss: 0.0022 - acc: 0.6562"
          ],
          "name": "stdout"
        }
      ]
    },
    {
      "cell_type": "code",
      "metadata": {
        "id": "KtsY2hmc2usR"
      },
      "source": [
        "x_test = test_set[: n_past, 0]\n",
        "y_test = test_set[n_past: n_past + n_future, 0]\n",
        "x_test, y_test = np.array(x_test), np.array(y_test)\n",
        "x_test = np.reshape(x_test, (1, x_test.shape[0], 1))\n",
        "predicted_temperature = regressor.predict(x_test)\n",
        "print('Predicted temperature {}'.format(predicted_temperature))\n",
        "print('Real temperature {}'.format(y_test))"
      ],
      "execution_count": null,
      "outputs": []
    },
    {
      "cell_type": "code",
      "metadata": {
        "id": "eUo_fH_e7Um3"
      },
      "source": [
        "regressor.summary()"
      ],
      "execution_count": null,
      "outputs": []
    },
    {
      "cell_type": "markdown",
      "metadata": {
        "id": "INe_AMaxUHXT"
      },
      "source": [
        "# Referências\n",
        "https://keras.io/examples/timeseries/timeseries_weather_forecasting/"
      ]
    },
    {
      "cell_type": "code",
      "metadata": {
        "id": "h_7XlG-EUIjt"
      },
      "source": [
        ""
      ],
      "execution_count": null,
      "outputs": []
    }
  ]
}